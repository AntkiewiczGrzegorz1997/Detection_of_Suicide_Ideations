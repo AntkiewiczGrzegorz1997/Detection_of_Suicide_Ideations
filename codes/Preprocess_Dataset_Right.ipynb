{
  "nbformat": 4,
  "nbformat_minor": 0,
  "metadata": {
    "colab": {
      "name": "Preprocess_Dataset_Right.ipynb",
      "provenance": [],
      "machine_shape": "hm",
      "collapsed_sections": []
    },
    "kernelspec": {
      "name": "python3",
      "display_name": "Python 3"
    },
    "language_info": {
      "name": "python"
    }
  },
  "cells": [
    {
      "cell_type": "code",
      "execution_count": null,
      "metadata": {
        "id": "ALLzEMrvGUgv"
      },
      "outputs": [],
      "source": [
        "from google.colab import auth\n",
        "auth.authenticate_user()\n",
        "!curl https://sdk.cloud.google.com | bash\n",
        "\n",
        "!gcloud init"
      ]
    },
    {
      "cell_type": "code",
      "source": [
        "import re"
      ],
      "metadata": {
        "id": "rGsvpTMwHMrO"
      },
      "execution_count": null,
      "outputs": []
    },
    {
      "cell_type": "code",
      "source": [
        "!gsutil -m cp gs://masterthesisbert/preprocessed_datasets/wiki* /content/"
      ],
      "metadata": {
        "id": "94SPBm8WHM1i"
      },
      "execution_count": null,
      "outputs": []
    },
    {
      "cell_type": "code",
      "source": [
        "!mkdir corrected_files"
      ],
      "metadata": {
        "id": "ZzrH8lidf7Hx"
      },
      "execution_count": null,
      "outputs": []
    },
    {
      "cell_type": "code",
      "source": [
        "import os\n",
        "list_of_files  = os.listdir()\n",
        "list_of_files.sort()\n",
        "list_of_files"
      ],
      "metadata": {
        "id": "l3k3mqH-iVWb"
      },
      "execution_count": null,
      "outputs": []
    },
    {
      "cell_type": "code",
      "source": [
        "# depending on which files do u want to preprocess\n",
        "file_list = list_of_files[-3:]\n",
        "file_list"
      ],
      "metadata": {
        "id": "_4bOH4vGgPzG"
      },
      "execution_count": null,
      "outputs": []
    },
    {
      "cell_type": "code",
      "source": [
        "from itertools import chain, repeat, islice\n",
        "\n",
        "\n",
        "def intersperse(delimiter, seq):\n",
        "    return islice(chain.from_iterable(zip(repeat(delimiter), seq)), 1, None)\n",
        "\n",
        "\n",
        "def convert_to_right_format_bright(file_list, reddit=True):\n",
        "\n",
        "    for i in file_list:\n",
        "\n",
        "      list1 = open(i).readlines()   "
      ],
      "metadata": {
        "id": "k-F9q4SPB-x_"
      },
      "execution_count": null,
      "outputs": []
    },
    {
      "cell_type": "code",
      "source": [
        "def convert_to_right_format_long(file_list, reddit=True):\n",
        "    for i in file_list:\n",
        "\n",
        "      list1 = open(i).readlines()\n",
        "      if reddit==True:\n",
        "          list1 = [x for y in (list1[i:i+2] + [''] * (i < len(list1) - 2) for i in range(0, len(list1), 2)) for x in y]\n",
        "      else: \n",
        "          list1 = list(intersperse(\"\", list1))\n",
        "      \n",
        "      list1 = [re.sub(r'\\n', '', i) for i in list1]\n",
        "      list1 = [i.split(\" . \") for i in list1 ]\n",
        "      list1 = [item for sublist in list1 for item in sublist]\n",
        "      list1 = [item + \" . \" if (len(item)>0 and item != \" \") else item for item in list1]\n",
        "      list1 = [x for x in list1 if x != \" \"]\n",
        "      list1 = [i[1:] if (len(i)>0 and i[0]==\" \") else i for i in list1]\n",
        "    \n",
        "      list1 = [x for x in list1 if (len(x) == 0 or len(x) > 6)]\n",
        "      \n",
        "      \n",
        "      with open('test'+ i, mode='wt', encoding='utf-8') as myfile:\n",
        "          myfile.write('\\n'.join(list1))\n",
        "\n",
        "      with open('test'+ i,'r') as file:\n",
        "          list1 = file.read()\n",
        "      if reddit==True:\n",
        "          list1 = re.sub(r'\\n\\n', '\\n', list1)\n",
        "      \n",
        "      file_name = \"corrected_files/\"+i\n",
        "      with open(file_name, \"w\") as text_file:\n",
        "          text_file.write(list1)\n",
        "\n",
        "\n",
        "  \n",
        "      !gsutil cp /content/{file_name} gs://masterthesisbert/preprocessed_datasets_rightway/{i}\n",
        "      \n",
        "      \n",
        "       \n",
        "\n",
        "\n",
        "convert_to_right_format(file_list, reddit=False)\n"
      ],
      "metadata": {
        "id": "ZKYJiQkVdpVx"
      },
      "execution_count": null,
      "outputs": []
    }
  ]
}